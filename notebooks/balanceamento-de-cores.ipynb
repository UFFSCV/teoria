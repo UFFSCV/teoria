{
 "cells": [
  {
   "cell_type": "markdown",
   "metadata": {},
   "source": [
    "# Balanceamento de Cores\n",
    "\n",
    "O Balanceamento de Cores ou também conhecido como de ajuste de branco é um ajuste global das intensidade dos canais de cores, ajustando a forma como as cores são dispostas.\n",
    "\n",
    "Esta técnica utilzia de um recurso de sobrevivência humana que basicamente utiliza dos tons da cor da pele como destaque para a visão humana para percepção de um sujeito está doente ou morto. Sendo assim o objetivo é fazer um desequilibrio das cores primarias para reproduzir com maior fidelidade a faixa de brilho e tonalidades de pele humana.\n",
    "\n",
    "## Como fonciona a técnica?\n",
    "Primeiro passo determina-se o iluminante através do histograma pra cada um dos canais de cores, encontrando os quantis (intevalo dos valores dos canais, ou seja, valores máximos e mínimos de cada canal) que correspondam ao nível de saturação desejada e  o próximo passo é transformar os componentes de forma que eles se conversem com o iluminante, então é feito um corte dos valores periféricos saturando uma certa porcentagem dos pixels para preto e branco. Ao preencer os calores a balanceamento de cores é feito.\n",
    "\n",
    "## Matematicamente falando:\n",
    "Matematicamente falando o balanceamento de cores é a aplicação de uma transformação linear:\n",
    "\n",
    "$$ \\left[{\\begin{array}{cc} R \\\\ G  \\\\ B \\end{array}}\\right]  = \\left[{\\begin{array}{cc} 255/R'_w & 0 & 0 \\\\ 0 & 255/G'_w & 0 \\\\ 0 & 0 & 255/B'_w \\end{array}}\\right] \\left[{\\begin{array}{cc} R' \\\\ G'  \\\\ B' \\end{array}}\\right] $$"
   ]
  },
  {
   "cell_type": "markdown",
   "metadata": {},
   "source": [
    "[\\[ 1 \\] - Color Balance ](https://en.wikipedia.org/wiki/Color_balance)\n",
    "\n",
    "[\\[ 2 \\] - Illuminant Estimation: Simplest Color Balance](https://web.stanford.edu/~sujason/ColorBalancing/simplestcb.html)\n",
    "\n",
    "[\\[ 3 \\] - Changing the contrast and brightness of an image!](https://docs.opencv.org/3.4/d3/dc1/tutorial_basic_linear_transform.html)"
   ]
  }
 ],
 "metadata": {
  "kernelspec": {
   "display_name": "Python 3",
   "language": "python",
   "name": "python3"
  },
  "language_info": {
   "codemirror_mode": {
    "name": "ipython",
    "version": 3
   },
   "file_extension": ".py",
   "mimetype": "text/x-python",
   "name": "python",
   "nbconvert_exporter": "python",
   "pygments_lexer": "ipython3",
   "version": "3.8.2"
  }
 },
 "nbformat": 4,
 "nbformat_minor": 2
}
