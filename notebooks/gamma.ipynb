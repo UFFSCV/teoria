{
 "cells": [
  {
   "attachments": {
    "gamma.png": {
     "image/png": "[encoded data removed]"
    }
   },
   "cell_type": "markdown",
   "metadata": {},
   "source": [
    "# Gamma\n",
    "<small> correção de gamma </small>    \n",
    "    \n",
    "## O que é o Gamma?\n",
    "\n",
    "O gamma ou a correção de gamma é uma uma operação não linear para poder codificar e decodificar a luminancia ou o tristimulos (sensibilidade de perceção RGB da visão humana para cada uma da cores), assim alterando brilho e contraste ao mesmo tempo, podendo assumir 3 valores: = 1, < 1 e > 1, onde = 1 respresenta não alteração dos valores mantendo os originais.\n",
    "\n",
    "Essa correção é dada pela fórmula:\n",
    "$$V_{saída} = AV_{entrada}^{\\gamma}$$\n",
    "sendo $A$ é uma constante que que representa o valores de $V_{out}$ e o gamma ($\\gamma$) que pode ser representando por __compressão__ ($\\gamma < 1 $) compressão representando maior contraste e menos brilho ou __expansão__ ($\\gamma > 1 $) compressão representando menor contraste e mais brilho .\n",
    "\n",
    "![gamma.png](attachment:gamma.png)\n",
    "<small> comportamento das funções afetadas pelo gamma </small>"
   ]
  },
  {
   "cell_type": "markdown",
   "metadata": {},
   "source": [
    "[\\[ 1 \\] - Gamma Correction](https://en.wikipedia.org/wiki/Gamma_correction)\n",
    "\n",
    "[\\[ 2 \\] - Tristimulus](https://en.wikipedia.org/wiki/CIE_1931_color_space#Tristimulus_values)\n",
    "\n",
    "[\\[ 3 \\] - Realce de imagens, mais algumas considerações/Images enhancement, other considerations](https://maalencar.wordpress.com/2012/04/19/images-enhancement-other-considerations/)"
   ]
  }
 ],
 "metadata": {
  "kernelspec": {
   "display_name": "Python 3",
   "language": "python",
   "name": "python3"
  },
  "language_info": {
   "codemirror_mode": {
    "name": "ipython",
    "version": 2
   },
   "file_extension": ".py",
   "mimetype": "text/x-python",
   "name": "python",
   "nbconvert_exporter": "python",
   "pygments_lexer": "ipython2",
   "version": "2.7.15rc1"
  }
 },
 "nbformat": 4,
 "nbformat_minor": 2
}
