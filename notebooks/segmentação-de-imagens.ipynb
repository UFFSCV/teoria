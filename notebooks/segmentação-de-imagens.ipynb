{
 "cells": [
  {
   "cell_type": "markdown",
   "metadata": {},
   "source": [
    "# Segmentação de Imagem"
   ]
  },
  {
   "cell_type": "markdown",
   "metadata": {},
   "source": [
    "Segmentação de imagem é o processo de dividir uma imagem digital em múltiplos segmentos. Em outras palavras segmentar uma imagem é atribuir cada pixel presente nela como pertencendo (ou não) à um objeto. Tais segmentos ou objetos são obtidos combinando pixels que partilham característias semelhantes como cor, luminosidade, etc."
   ]
  },
  {
   "cell_type": "markdown",
   "metadata": {},
   "source": [
    "## Aplicações"
   ]
  },
  {
   "cell_type": "markdown",
   "metadata": {},
   "source": [
    "- Detecção de objetos;\n",
    "- Reconhecimento de faces;\n",
    "- Classificação de imagens;\n",
    "- ..."
   ]
  },
  {
   "cell_type": "markdown",
   "metadata": {},
   "source": [
    "## Técnicas de segmentação"
   ]
  },
  {
   "cell_type": "markdown",
   "metadata": {},
   "source": [
    "### 1 Thresholding\n",
    "\n",
    "Método mais simples de segmentação que consiste em dividir uma imagem em tons de cinza em duas regiões, baseando-se em uma valor limiar.\n",
    "\n",
    "Seja $t$ o valor limiar. Sejam $i$ e $j$ coordenadas da imagem $I$. O pixel $I(i, j)$ pertencerá à região A se $I(i, j) > t$ caso contrário pertencerá à região B. \n",
    "\n",
    "Desta forma, tomando a imgem `I`, o limiar `t`, o valor máximo `255` e a reposta `dst` temos:\n",
    "\n",
    "```python\n",
    "if (I[i:j] > t):\n",
    "    dst[i:j] = 255\n",
    "else:\n",
    "    dst[i:j] = 0\n",
    "```\n",
    "\n",
    "O resultado do thresholding é uma imagem binária.\n",
    "\n",
    "<img src=\"assets/segmentation_thresh_original.png\" width=\"50%\" border=\"1px solid\">\n",
    "<p>Imagem original<br>Fonte: Documentação Opencv</p>\n",
    "\n",
    "<img src=\"assets/segmentation_thresh_thresh.png\" width=\"50%\" border=\"1px solid\">\n",
    "<p>Imagem original<br>Fonte: Documentação Opencv</p>\n",
    "\n",
    "#### Thresholding adaptável\n",
    "\n",
    "No método descrito acima, um valor limiar é selecionado para toda a imagem - chamado limiar global. Contudo pode surgir a necessidade de utilizar limiares distintos para diferentes regiões de uma imagem (e.g. uma imagem com regiões expostas à sombra). Se este é o caso, utiliza-se limiarização adaptável (adptive thresholding)."
   ]
  },
  {
   "cell_type": "markdown",
   "metadata": {},
   "source": [
    "### 2 Clustering (K-means)\n",
    "\n",
    "A técnica K-means consiste em dividir a imagem em $K$ segmentos fundamentando-se em $K$ pixels escolhidos previamente, chamados de centros. As $K$ regiões terão as características destes centros. O algoritmo é dado por:\n",
    "\n",
    "- 1: Escolha $K$ centros de clusters;\n",
    "- 2: Atribua cada piexel ao cluster que minimize a **distância** até um centro;\n",
    "- 3: Recalcule os centros tendo em vista a média de todos os pixels no cluster;\n",
    "- 4: Repita os passos 2-3 até que não hajam mais pixels mudando de cluster;\n",
    "\n",
    "#### Exemplo\n",
    "\n",
    "<img src=\"assets/segmentation_cluster_original.jpg\" width=\"65%\">\n",
    "<p>Imagem original<br>Fonte: Wikipedia</p>\n",
    "\n",
    "<img src=\"assets/segmentation_cluster_kmeans.png\" width=\"65%\">\n",
    "<p>Imagem clusterizada<br>Fonte: Wikipedia</p>"
   ]
  },
  {
   "cell_type": "code",
   "execution_count": null,
   "metadata": {},
   "outputs": [],
   "source": []
  }
 ],
 "metadata": {
  "kernelspec": {
   "display_name": "Python 3",
   "language": "python",
   "name": "python3"
  },
  "language_info": {
   "codemirror_mode": {
    "name": "ipython",
    "version": 3
   },
   "file_extension": ".py",
   "mimetype": "text/x-python",
   "name": "python",
   "nbconvert_exporter": "python",
   "pygments_lexer": "ipython3",
   "version": "3.8.2"
  }
 },
 "nbformat": 4,
 "nbformat_minor": 2
}
