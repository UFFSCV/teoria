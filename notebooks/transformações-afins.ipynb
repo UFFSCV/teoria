{
 "cells": [
  {
   "cell_type": "markdown",
   "metadata": {},
   "source": [
    "# Tranformações Afins\n",
    "\n",
    "Por definição as transformações Afins são combinações lianeres que preservam em uma transformação linear a colianearidade/proporções, raios das distancia dos eixos.\n",
    "\n",
    "$$ f:V \\to W $$\n",
    "\n",
    "E elas prossuem algumas propriedades:\n",
    "\n",
    "- Colinearidade entre os pontos\n",
    "- Paralelismo entre as linhs\n",
    "- Convexidade dos conjuntos\n",
    "- Baricentricas\n",
    "\n",
    "Resumindo, as trasformações afins são quem aplicam reflexão, rotação,  mudança de escalar, cisalhamento, dilatação e expansão em matrizes\n",
    "\n",
    "obs: Lembrando que elas não preservam os ângulos e larguras."
   ]
  },
  {
   "cell_type": "markdown",
   "metadata": {},
   "source": [
    "## Transformações nas imagens\n",
    "\n",
    "Transformação| Matris Afim \n",
    "------ | -----\n",
    "Identidade|\\begin{vmatrix} 1 & 0 & 0 \\\\ 0 & 1 & 0\\\\ 0 & 0 & 1 \\end{vmatrix}\n",
    "Reflexão|\\begin{vmatrix} -1 & 0 & 0 \\\\ 0 & 1 & 0\\\\ 0 & 0 & 1 \\end{vmatrix}\n",
    "Escalar|\\begin{vmatrix} C_x = 2 & 0 & 0 \\\\ 0 & c_y = 1 & 0\\\\ 0 & 0 & 1 \\end{vmatrix}\n",
    "Rotação|\\begin{vmatrix} cos(\\theta) & -sin(\\theta) & 0 \\\\ sin(\\theta) & cons(\\theta) & 0\\\\ 0 & 0 & 1 \\end{vmatrix}\n",
    "Cisalhamento|\\begin{vmatrix} 1 & c_x=0.5 & 0 \\\\ c_y=0 & 1 & 0\\\\ 0 & 0 & 1 \\end{vmatrix}"
   ]
  },
  {
   "cell_type": "markdown",
   "metadata": {},
   "source": [
    "Referencial\n",
    "\n",
    "[\\[1\\] - Affine Transformation, Wolfram](http://mathworld.wolfram.com/AffineTransformation.html)\n",
    "\n",
    "[\\[2\\] - Affine Transformation, Wiki](https://en.wikipedia.org/wiki/Affine_transformation)\n",
    "\n",
    "[\\[3\\] - Affine Transformation, Udemy](https://www.youtube.com/watch?v=il6Z5LCykZk)"
   ]
  }
 ],
 "metadata": {
  "kernelspec": {
   "display_name": "Python 3",
   "language": "python",
   "name": "python3"
  },
  "language_info": {
   "codemirror_mode": {
    "name": "ipython",
    "version": 3
   },
   "file_extension": ".py",
   "mimetype": "text/x-python",
   "name": "python",
   "nbconvert_exporter": "python",
   "pygments_lexer": "ipython3",
   "version": "3.8.2"
  }
 },
 "nbformat": 4,
 "nbformat_minor": 2
}
